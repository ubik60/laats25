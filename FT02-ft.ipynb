{
 "cells": [
  {
   "cell_type": "markdown",
   "metadata": {},
   "source": [
    "# Faltningssatsen i Fourieranalys\n",
    "\n",
    "## Introduktion\n",
    "\n",
    "Faltningssatsen är en fundamental sats i Fourieranalys som beskriver hur faltning i tidsdomänen övergår till multiplikation i frekvensdomänen. Denna sats har bred tillämpning inom signalbehandling, bildbehandling och fysik.\n",
    "\n",
    "## Matematisk Bakgrund\n",
    "\n",
    "### Definition av Faltning\n",
    "\n",
    "För två funktioner f(t) och g(t) definieras faltningen som\n",
    "\\[\n",
    "(f * g)(t) = \\int_{-\\infty}^{\\infty} f(\\tau)g(t - \\tau) d\\tau\n",
    "\\]\n",
    "\n",
    "### Faltningssatsen\n",
    "\n",
    "Fouriertransformen av en funktion f(t) definieras som:\n",
    "\\[\n",
    "\\mathcal{F}\\{f(t)\\} = F(\\omega) = \\int_{-\\infty}^{\\infty} f(t)e^{-i\\omega t} dt\n",
    "\\]\n",
    "\n",
    "\n",
    "**Sats:** Om f(t) och g(t) har fouriertransformer F(ω) respektive G(ω), då gäller\n",
    "\\[\n",
    "\\mathcal{F}\\{f(t) * g(t)\\} = F(\\omega) \\cdot G(\\omega)\n",
    "\\]"
   ]
  },
  {
   "cell_type": "markdown",
   "metadata": {},
   "source": [
    "## Övning \n",
    "\n",
    "1. Nedan ges några par av funktioner. Plotta de enskilda funktionerna samt deras faltning. Använd `signal.convolve` för beräkning av faltningen.\n",
    "2. Använd `np.fft.fft` för att beräkna fouriertransformen av faltningen och jämför med produkten av fouriertransformerna. Använd `np.fft.fftfreq` för att få en axel för frekvensdomänen. \n"
   ]
  },
  {
   "cell_type": "code",
   "execution_count": null,
   "metadata": {},
   "outputs": [],
   "source": [
    "import numpy as np\n",
    "import matplotlib.pyplot as plt\n",
    "from scipy import signal\n",
    "\n",
    "# Konfigurera plotting\n",
    "plt.rcParams['figure.figsize'] = [12, 8]\n",
    "plt.rcParams['font.size'] = 12\n",
    "\n",
    "# Använd subplots\n",
    "\n",
    "plt.tight_layout()\n",
    "plt.show()"
   ]
  },
  {
   "cell_type": "markdown",
   "metadata": {},
   "source": [
    "## Exempel"
   ]
  },
  {
   "cell_type": "code",
   "execution_count": null,
   "metadata": {},
   "outputs": [],
   "source": [
    "# Exempel 1: Rektangulära pulser \n",
    "t = np.linspace(-5, 5, 1000)\n",
    "f1 = np.where((t >= -1) & (t <= 1), 1, 0)  # Rektangel från -1 till 1\n",
    "g1 = np.where((t >= -0.5) & (t <= 0.5), 1, 0)  # Rektangel från -0.5 till 0.5"
   ]
  },
  {
   "cell_type": "code",
   "execution_count": null,
   "metadata": {},
   "outputs": [],
   "source": [
    "# Exempel 2: Gaussiska pulser\n",
    "f2 = np.exp(-t**2 / (2*0.5**2))  # Gaussisk puls med σ=0.5\n",
    "g2 = np.exp(-t**2 / (2*0.3**2))  # Gaussisk puls med σ=0.3"
   ]
  },
  {
   "cell_type": "code",
   "execution_count": null,
   "metadata": {},
   "outputs": [],
   "source": [
    "# Exempel 3: Sinus med olika frekvenser\n",
    "f3 = np.sin(2*np.pi*2*t) * np.exp(-t**2/4)  # Sinus 2Hz med gaussisk envelop\n",
    "g3 = np.sin(2*np.pi*5*t) * np.exp(-t**2/4)  # Sinus 5Hz med gaussisk envelop"
   ]
  },
  {
   "cell_type": "code",
   "execution_count": null,
   "metadata": {},
   "outputs": [],
   "source": []
  }
 ],
 "metadata": {
  "kernelspec": {
   "display_name": "Python 3",
   "language": "python",
   "name": "python3"
  },
  "language_info": {
   "codemirror_mode": {
    "name": "ipython",
    "version": 3
   },
   "file_extension": ".py",
   "mimetype": "text/x-python",
   "name": "python",
   "nbconvert_exporter": "python",
   "pygments_lexer": "ipython3",
   "version": "3.10.13"
  }
 },
 "nbformat": 4,
 "nbformat_minor": 4
}
